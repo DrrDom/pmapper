{
 "cells": [
  {
   "cell_type": "markdown",
   "metadata": {},
   "source": [
    "#### Example of screening with pmapper using available pharmacophores represented by features and their coordinates"
   ]
  },
  {
   "cell_type": "markdown",
   "metadata": {},
   "source": [
    "The described procedure should not be used normally for screening of large datsets because model_fit function can be relatively slow in the case of pharmacophores containing many features (10 or more). For screening of large datasets scripts from psearch repository can be used."
   ]
  },
  {
   "cell_type": "code",
   "execution_count": 1,
   "metadata": {
    "collapsed": true
   },
   "outputs": [],
   "source": [
    "import sys\n",
    "sys.path.append('/home/pavel/python/pmapper/')"
   ]
  },
  {
   "cell_type": "code",
   "execution_count": 2,
   "metadata": {
    "collapsed": true
   },
   "outputs": [],
   "source": [
    "from pharmacophore import Pharmacophore as P\n",
    "\n",
    "\n",
    "def transform_coords(coords):\n",
    "    return [(item[0], tuple(item[1:])) for item in coords]"
   ]
  },
  {
   "cell_type": "code",
   "execution_count": 3,
   "metadata": {
    "collapsed": true
   },
   "outputs": [],
   "source": [
    "# feature lables and cordinates\n",
    "model_coords = [['A', 3, 4, 5], ['A', 5, 6, 7], ['D', 4, 5, 6]]\n",
    "screen_coords = [['A', 3, 4, 5], ['H', 6, 8, 10], ['D', 4, 5, 6], ['A', 5, 6, 7]]\n",
    "\n",
    "# transform to an appropriate format\n",
    "model_coords = transform_coords(model_coords)\n",
    "screen_coords = transform_coords(screen_coords)"
   ]
  },
  {
   "cell_type": "code",
   "execution_count": 4,
   "metadata": {
    "collapsed": true
   },
   "outputs": [],
   "source": [
    "# create pharmacophores from coordinates\n",
    "# feature labels can be user defined but should be consistent across all pharmacophores\n",
    "# bin_step defines accuracy of matching - if pharmacophores match they have rms lower than the bin_step\n",
    "# if pharmacophores do not match they can still have low rms\n",
    "# this is a caveat of the approach, but it does not affect actual screening \n",
    "# because usually many conformers (pharmacophores) of a compound are generated and fitted to the model\n",
    "model_pharm = P(bin_step=1)\n",
    "model_pharm.load_from_feature_coords(model_coords)\n",
    "\n",
    "screen_pharm = P(bin_step=1)\n",
    "screen_pharm.load_from_feature_coords(screen_coords)"
   ]
  },
  {
   "cell_type": "code",
   "execution_count": 5,
   "metadata": {},
   "outputs": [
    {
     "name": "stdout",
     "output_type": "stream",
     "text": [
      "matched model feature ids: (0, 1, 2)\n"
     ]
    }
   ],
   "source": [
    "# simple screen\n",
    "\n",
    "res = screen_pharm.fit_model(model_pharm)\n",
    "\n",
    "if res is None:\n",
    "    print('No match')\n",
    "else:\n",
    "    print('matched model feature ids:', res)   # the tuple of matched ids of the reference pharmacophore (model_pharm)"
   ]
  },
  {
   "cell_type": "code",
   "execution_count": 6,
   "metadata": {},
   "outputs": [
    {
     "name": "stdout",
     "output_type": "stream",
     "text": [
      "matched model feature ids: (0, 1, 2)\n",
      "transformation matrix:\n",
      " [[-0.33333333  0.66666667  0.66666667 -2.        ]\n",
      " [ 0.66666667 -0.33333333  0.66666667  0.        ]\n",
      " [ 0.66666667  0.66666667 -0.33333333  2.        ]\n",
      " [ 0.          0.          0.          1.        ]]\n"
     ]
    }
   ],
   "source": [
    "# screen with alignment\n",
    "\n",
    "res = screen_pharm.fit_model(model_pharm, get_transform_matrix=True)\n",
    "\n",
    "if res is None:\n",
    "    print('No match')\n",
    "else:\n",
    "    print('matched model feature ids:', res[0])   # the tuple of matched ids of the reference pharmacophore (model_pharm)\n",
    "    print('transformation matrix:\\n', res[1])     # transformation matrix to align the molecule to the pharmacophore model"
   ]
  }
 ],
 "metadata": {
  "kernelspec": {
   "display_name": "Python 3",
   "language": "python",
   "name": "python3"
  },
  "language_info": {
   "codemirror_mode": {
    "name": "ipython",
    "version": 3
   },
   "file_extension": ".py",
   "mimetype": "text/x-python",
   "name": "python",
   "nbconvert_exporter": "python",
   "pygments_lexer": "ipython3",
   "version": "3.6.3"
  }
 },
 "nbformat": 4,
 "nbformat_minor": 2
}
