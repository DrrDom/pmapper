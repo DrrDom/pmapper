{
 "cells": [
  {
   "cell_type": "code",
   "execution_count": 1,
   "metadata": {
    "collapsed": true
   },
   "outputs": [],
   "source": [
    "from pmapper.pharmacophore import Pharmacophore as P\n",
    "from rdkit import Chem\n",
    "from rdkit.Chem import AllChem"
   ]
  },
  {
   "cell_type": "code",
   "execution_count": 2,
   "metadata": {},
   "outputs": [
    {
     "data": {
      "text/plain": [
       "0"
      ]
     },
     "execution_count": 2,
     "metadata": {},
     "output_type": "execute_result"
    }
   ],
   "source": [
    "mol = Chem.MolFromSmiles('C1CC(=O)NC(=O)C1N2C(=O)C3=CC=CC=C3C2=O')  # talidomide\n",
    "mol = Chem.AddHs(mol)\n",
    "AllChem.EmbedMolecule(mol, randomSeed=42)"
   ]
  },
  {
   "cell_type": "code",
   "execution_count": 3,
   "metadata": {
    "collapsed": true
   },
   "outputs": [],
   "source": [
    "p = P()\n",
    "p.load_from_mol(mol)"
   ]
  },
  {
   "cell_type": "code",
   "execution_count": 4,
   "metadata": {},
   "outputs": [
    {
     "name": "stdout",
     "output_type": "stream",
     "text": [
      "98504647beeb143ae50bb6b7798ca0f0\n"
     ]
    }
   ],
   "source": [
    "sig = p.get_signature_md5()\n",
    "print(sig)"
   ]
  },
  {
   "cell_type": "code",
   "execution_count": 5,
   "metadata": {},
   "outputs": [
    {
     "name": "stdout",
     "output_type": "stream",
     "text": [
      "bc54806ba01bf59736a7b62b017d6e1d\n"
     ]
    }
   ],
   "source": [
    "sig = p.get_signature_md5(tol=5)\n",
    "print(sig)"
   ]
  },
  {
   "cell_type": "code",
   "execution_count": 6,
   "metadata": {},
   "outputs": [
    {
     "name": "stdout",
     "output_type": "stream",
     "text": [
      "['d5f5f9d65e39cb8605f1fa9db5b2fbb0',\n",
      " '6204791002d1e343b2bde323149fa780',\n",
      " 'abfabd8a4fcf5719ed6bf2c71a60852c',\n",
      " 'dfe9f17d30210cb94b8dd7acf77feae9',\n",
      " 'abfabd8a4fcf5719ed6bf2c71a60852c',\n",
      " 'e739fb5f9985ce0c65a16da41da4a33f',\n",
      " '2297ddf0e437b7fc32077f75e3924dcd',\n",
      " 'e739fb5f9985ce0c65a16da41da4a33f',\n",
      " '182a00bd9057abd0c455947d9cfa457c',\n",
      " '68f226d474808e60ab1256245f64c2b7']\n"
     ]
    }
   ],
   "source": [
    "from pmapper.utils import load_multi_conf_mol\n",
    "from pprint import pprint\n",
    "\n",
    "AllChem.EmbedMultipleConfs(mol, numConfs=10, randomSeed=1024)\n",
    "\n",
    "ps = load_multi_conf_mol(mol)\n",
    "\n",
    "sig = [p.get_signature_md5() for p in ps]\n",
    "\n",
    "pprint(sig)  # identical signatures occur"
   ]
  },
  {
   "cell_type": "code",
   "execution_count": 7,
   "metadata": {},
   "outputs": [
    {
     "name": "stdout",
     "output_type": "stream",
     "text": [
      "rmsd bewteen 2 and 0 pharmacophore: 0.63\n",
      "rmsd bewteen 2 and 1 pharmacophore: 0.99\n",
      "rmsd bewteen 2 and 2 pharmacophore: 0.0\n",
      "rmsd bewteen 2 and 3 pharmacophore: 0.41\n",
      "rmsd bewteen 2 and 4 pharmacophore: 0.18\n",
      "rmsd bewteen 2 and 5 pharmacophore: 0.19\n",
      "rmsd bewteen 2 and 6 pharmacophore: 1.15\n",
      "rmsd bewteen 2 and 7 pharmacophore: 0.32\n",
      "rmsd bewteen 2 and 8 pharmacophore: 0.69\n",
      "rmsd bewteen 2 and 9 pharmacophore: 0.36\n"
     ]
    }
   ],
   "source": [
    "from pmapper.utils import get_rms\n",
    "for i in range(len(ps)):\n",
    "    print(\"rmsd bewteen 2 and %i pharmacophore:\" % i, round(get_rms(ps[2], ps[i]), 2))"
   ]
  },
  {
   "cell_type": "code",
   "execution_count": 8,
   "metadata": {},
   "outputs": [
    {
     "data": {
      "text/plain": [
       "0.35936504379732703"
      ]
     },
     "execution_count": 8,
     "metadata": {},
     "output_type": "execute_result"
    }
   ],
   "source": [
    "get_rms(ps[2], ps[9])"
   ]
  },
  {
   "cell_type": "code",
   "execution_count": 9,
   "metadata": {},
   "outputs": [
    {
     "name": "stdout",
     "output_type": "stream",
     "text": [
      "{259, 1671, 521, 143, 912, 402, 278, 406, 1562, 1692, 1835, 173, 558, 1070, 942, 1202, 1845, 823, 1476, 197, 968, 1355, 845, 1741, 1364, 87, 1881, 987, 1515, 378, 628, 1141, 1401, 1146, 2043}\n"
     ]
    }
   ],
   "source": [
    "b = p.get_fp(min_features=4, max_features=4)   # set of activated bits\n",
    "print(b)"
   ]
  },
  {
   "cell_type": "code",
   "execution_count": 10,
   "metadata": {},
   "outputs": [
    {
     "name": "stdout",
     "output_type": "stream",
     "text": [
      "{389, 518, 2821, 1416, 2952, 395, 3339, 511, 3342, 1937, 1042, 2710, 1817, 1690, 3482, 3737, 286, 1824, 1700, 804, 1318, 2729, 3114, 812, 556, 175, 3763, 2356, 3124, 1077, 1975, 3384, 1081, 185, 65, 1223, 713, 1356, 1998, 1487, 2131, 85, 3670, 1877, 3030, 2395, 1116, 2141, 1885, 347, 2404, 1382, 1257, 3049, 2795, 3691, 2541, 1646, 2283, 241, 113, 3698, 756, 2548, 4086, 2293, 1528, 2802, 127}\n"
     ]
    }
   ],
   "source": [
    "b = p.get_fp(min_features=4, max_features=4, nbits=4096, activate_bits=2)\n",
    "print(b)"
   ]
  },
  {
   "cell_type": "code",
   "execution_count": null,
   "metadata": {
    "collapsed": true
   },
   "outputs": [],
   "source": []
  },
  {
   "cell_type": "code",
   "execution_count": 11,
   "metadata": {},
   "outputs": [
    {
     "data": {
      "text/plain": [
       "[('a', (3.1759526743844355, -0.22878548460568804, 0.24391887121363579)),\n",
       " ('D', (-2.5115940936414383, -1.2834285683988096, -1.138909528319097)),\n",
       " ('A', (-0.22317606487057132, -1.565385337615298, 0.8504184299440655)),\n",
       " ('A', (1.044319872161684, 2.6938782404162493, -0.6605933588023888)),\n",
       " ('A', (-3.8665126405329953, -1.9573177735412108, 0.5685448526908214)),\n",
       " ('A', (-1.2631349915746457, -0.1470760735117546, -2.7333934213476456)),\n",
       " ('H', (3.1759526743844355, -0.22878548460568804, 0.24391887121363579))]"
      ]
     },
     "execution_count": 11,
     "metadata": {},
     "output_type": "execute_result"
    }
   ],
   "source": [
    "p.get_feature_coords()"
   ]
  },
  {
   "cell_type": "code",
   "execution_count": 21,
   "metadata": {},
   "outputs": [],
   "source": [
    "q = P()\n",
    "q.load_from_feature_coords([('a', (3.17, -0.23, 0.24)), ('D', (-2.51, -1.28, -1.14))])"
   ]
  },
  {
   "cell_type": "code",
   "execution_count": 22,
   "metadata": {},
   "outputs": [
    {
     "data": {
      "text/plain": [
       "(0, 1)"
      ]
     },
     "execution_count": 22,
     "metadata": {},
     "output_type": "execute_result"
    }
   ],
   "source": [
    "p.fit_model(q)"
   ]
  },
  {
   "cell_type": "code",
   "execution_count": null,
   "metadata": {
    "collapsed": true
   },
   "outputs": [],
   "source": []
  }
 ],
 "metadata": {
  "kernelspec": {
   "display_name": "Python 3",
   "language": "python",
   "name": "python3"
  },
  "language_info": {
   "codemirror_mode": {
    "name": "ipython",
    "version": 3
   },
   "file_extension": ".py",
   "mimetype": "text/x-python",
   "name": "python",
   "nbconvert_exporter": "python",
   "pygments_lexer": "ipython3",
   "version": "3.6.5"
  }
 },
 "nbformat": 4,
 "nbformat_minor": 2
}
